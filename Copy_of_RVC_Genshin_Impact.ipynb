{
  "nbformat": 4,
  "nbformat_minor": 0,
  "metadata": {
    "colab": {
      "provenance": [],
      "gpuType": "T4",
      "include_colab_link": true
    },
    "kernelspec": {
      "name": "python3",
      "display_name": "Python 3"
    },
    "language_info": {
      "name": "python"
    },
    "gpuClass": "standard",
    "accelerator": "GPU"
  },
  "cells": [
    {
      "cell_type": "markdown",
      "metadata": {
        "id": "view-in-github",
        "colab_type": "text"
      },
      "source": [
        "<a href=\"https://colab.research.google.com/github/Zannriell/Chatter-/blob/main/Copy_of_RVC_Genshin_Impact.ipynb\" target=\"_parent\"><img src=\"https://colab.research.google.com/assets/colab-badge.svg\" alt=\"Open In Colab\"/></a>"
      ]
    },
    {
      "cell_type": "markdown",
      "source": [
        "<div align=\"center\">\n",
        "\n",
        "# RVC Genshin Impact\n",
        "</div>\n",
        "\n",
        "----\n",
        "##### Changelog 2022.7.8\n",
        "- Remove Advanced Inference due to models directory changes for multi model inference.\n",
        "\n",
        "##### Changelog 2022.7.4\n",
        "- Readjust model branch to reduce download size\n"
      ],
      "metadata": {
        "id": "OcdCBwP83dFe"
      }
    },
    {
      "cell_type": "markdown",
      "source": [
        "## How to use?\n",
        "1. Install dependencies by clicking the play button on `1.Install Dependencies`\n",
        "2. Then, click the play button on `2. Download Genshin Model`\n",
        "3. Lastly, click the play button on `3. Run as Gradio`\n",
        "4. Wait until this shows up\n",
        "![image.png](https://media.discordapp.net/attachments/1047870247136411658/1112766479230836756/image.png)\n",
        "5. Click the public url\n",
        "6. Enjoy!"
      ],
      "metadata": {
        "id": "jEYZ-QalI5Jf"
      }
    },
    {
      "cell_type": "code",
      "source": [
        "#@title 1. Install Dependencies\n",
        "\n",
        "%cd /content/\n",
        "!python -m pip install -U pip wheel\n",
        "!apt-get update\n",
        "!apt-get install -qq -y aria2\n",
        "!git clone -b master https://github.com/ArkanDash/Multi-Model-RVC-Inference\n",
        "!aria2c --console-log-level=error -c -x 16 -s 16 -k 1M https://huggingface.co/lj1995/VoiceConversionWebUI/resolve/main/hubert_base.pt -d /content/Multi-Model-RVC-Inference -o hubert_base.pt\n",
        "!pip install -r /content/Multi-Model-RVC-Inference/requirements.txt"
      ],
      "metadata": {
        "id": "JprM7aB13c1P"
      },
      "execution_count": null,
      "outputs": []
    },
    {
      "cell_type": "code",
      "source": [
        "#@title 2. Download Genshin Model\n",
        "%cd /content/\n",
        "import os\n",
        "import json\n",
        "\n",
        "!git clone -b gcolab https://huggingface.co/ArkanDash/rvc-genshin-impact\n",
        "!rm -rf /content/Multi-Model-RVC-Inference/weights\n",
        "!cp -r /content/rvc-genshin-impact/weights /content/Multi-Model-RVC-Inference/\n",
        "!rm -rf /content/rvc-genshin-impact/"
      ],
      "metadata": {
        "id": "QlbU6opM7HL6",
        "colab": {
          "base_uri": "https://localhost:8080/"
        },
        "outputId": "53024338-4f7f-4065-e701-4ca656dbf412"
      },
      "execution_count": null,
      "outputs": [
        {
          "output_type": "stream",
          "name": "stdout",
          "text": [
            "/content\n",
            "Cloning into 'rvc-genshin-impact'...\n",
            "remote: Enumerating objects: 582, done.\u001b[K\n",
            "remote: Counting objects: 100% (582/582), done.\u001b[K\n",
            "remote: Compressing objects: 100% (459/459), done.\u001b[K\n",
            "remote: Total 582 (delta 220), reused 399 (delta 121), pack-reused 0\u001b[K\n",
            "Receiving objects: 100% (582/582), 1.81 MiB | 24.34 MiB/s, done.\n",
            "Resolving deltas: 100% (220/220), done.\n"
          ]
        }
      ]
    },
    {
      "cell_type": "code",
      "source": [
        "#@title 3. Run as Gradio\n",
        "%cd /content/Multi-Model-RVC-Inference\n",
        "!python app.py --colab"
      ],
      "metadata": {
        "id": "uVRmSaNJilqN"
      },
      "execution_count": null,
      "outputs": []
    }
  ]
}